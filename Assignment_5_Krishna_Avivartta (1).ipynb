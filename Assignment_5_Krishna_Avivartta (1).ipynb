{
  "nbformat": 4,
  "nbformat_minor": 0,
  "metadata": {
    "colab": {
      "provenance": []
    },
    "kernelspec": {
      "name": "python3",
      "display_name": "Python 3"
    },
    "language_info": {
      "name": "python"
    }
  },
  "cells": [
    {
      "cell_type": "code",
      "execution_count": 2,
      "metadata": {
        "colab": {
          "base_uri": "https://localhost:8080/"
        },
        "id": "AKnu6zFEJevl",
        "outputId": "2c8c74ab-3424-4b5b-c759-d131d5d1cf19"
      },
      "outputs": [
        {
          "output_type": "stream",
          "name": "stdout",
          "text": [
            "Mounted at /content/drive\n"
          ]
        }
      ],
      "source": [
        "#mounting drive\n",
        "from google.colab import drive\n",
        "drive.mount('/content/drive')"
      ]
    },
    {
      "cell_type": "code",
      "source": [
        "import numpy as np\n",
        "import pandas as pd\n",
        "\n",
        "# machine learning models\n",
        "from sklearn.naive_bayes import GaussianNB\n",
        "from sklearn.svm import SVC\n",
        "from sklearn.tree import DecisionTreeClassifier\n",
        "from sklearn.neighbors import KNeighborsClassifier\n",
        "\n",
        "# machine learning metrices\n",
        "from sklearn.model_selection import train_test_split\n",
        "from sklearn.metrics import accuracy_score, classification_report, plot_confusion_matrix"
      ],
      "metadata": {
        "id": "Mvcx-4LqKFwG"
      },
      "execution_count": 1,
      "outputs": []
    },
    {
      "cell_type": "code",
      "source": [
        "df_diabetes = pd.read_csv('/content/drive/MyDrive/Colab Notebooks/diabetes.csv')\n",
        "df_sports = pd.read_csv('/content/drive/MyDrive/Colab Notebooks/sports_class.csv')"
      ],
      "metadata": {
        "id": "i8GvoCBiSAbG"
      },
      "execution_count": 4,
      "outputs": []
    },
    {
      "cell_type": "markdown",
      "source": [
        "Diabetes Dataset - Models"
      ],
      "metadata": {
        "id": "F2u6hD1tUOIi"
      }
    },
    {
      "cell_type": "code",
      "source": [
        "df_diabetes.info()"
      ],
      "metadata": {
        "colab": {
          "base_uri": "https://localhost:8080/"
        },
        "id": "z8t792qcTqSs",
        "outputId": "f75025fc-39aa-4706-b85b-e2fb5ad1274d"
      },
      "execution_count": 20,
      "outputs": [
        {
          "output_type": "stream",
          "name": "stdout",
          "text": [
            "<class 'pandas.core.frame.DataFrame'>\n",
            "RangeIndex: 768 entries, 0 to 767\n",
            "Data columns (total 9 columns):\n",
            " #   Column                    Non-Null Count  Dtype  \n",
            "---  ------                    --------------  -----  \n",
            " 0   Pregnancies               768 non-null    int64  \n",
            " 1   Glucose                   768 non-null    int64  \n",
            " 2   BloodPressure             768 non-null    int64  \n",
            " 3   SkinThickness             768 non-null    int64  \n",
            " 4   Insulin                   768 non-null    int64  \n",
            " 5   BMI                       768 non-null    float64\n",
            " 6   DiabetesPedigreeFunction  768 non-null    float64\n",
            " 7   Age                       768 non-null    int64  \n",
            " 8   Outcome                   768 non-null    int64  \n",
            "dtypes: float64(2), int64(7)\n",
            "memory usage: 54.1 KB\n"
          ]
        }
      ]
    },
    {
      "cell_type": "code",
      "source": [
        "def report(name, model, df):\n",
        "  X_train, X_test, y_train, y_test = train_test_split(df.iloc[:, : -1],df.iloc[: , -1], random_state = 50, test_size = 0.25)\n",
        "  model = model.fit(X_train,y_train)\n",
        "  y_pred = model.predict(X_test)\n",
        "  print( name + '\\n' + classification_report(y_pred,y_test))"
      ],
      "metadata": {
        "id": "8t7R6k-2UJdX"
      },
      "execution_count": 14,
      "outputs": []
    },
    {
      "cell_type": "code",
      "source": [
        "report('\\nKNN', KNeighborsClassifier(), df_diabetes)\n",
        "report('\\nDecision Tree', DecisionTreeClassifier(), df_diabetes)\n",
        "report('Naive Bayes', GaussianNB(), df_diabetes)\n",
        "report('\\nSVM', SVC(), df_diabetes)"
      ],
      "metadata": {
        "colab": {
          "base_uri": "https://localhost:8080/"
        },
        "id": "4PA5CQwqUSBk",
        "outputId": "f295975a-186e-4df2-b088-569a5825869a"
      },
      "execution_count": 15,
      "outputs": [
        {
          "output_type": "stream",
          "name": "stdout",
          "text": [
            "\n",
            "KNN\n",
            "              precision    recall  f1-score   support\n",
            "\n",
            "           0       0.81      0.72      0.76       137\n",
            "           1       0.46      0.58      0.51        55\n",
            "\n",
            "    accuracy                           0.68       192\n",
            "   macro avg       0.63      0.65      0.64       192\n",
            "weighted avg       0.71      0.68      0.69       192\n",
            "\n",
            "\n",
            "Decision Tree\n",
            "              precision    recall  f1-score   support\n",
            "\n",
            "           0       0.77      0.75      0.76       125\n",
            "           1       0.56      0.58      0.57        67\n",
            "\n",
            "    accuracy                           0.69       192\n",
            "   macro avg       0.66      0.67      0.67       192\n",
            "weighted avg       0.70      0.69      0.69       192\n",
            "\n",
            "Naive Bayes\n",
            "              precision    recall  f1-score   support\n",
            "\n",
            "           0       0.84      0.76      0.80       136\n",
            "           1       0.53      0.66      0.59        56\n",
            "\n",
            "    accuracy                           0.73       192\n",
            "   macro avg       0.69      0.71      0.69       192\n",
            "weighted avg       0.75      0.73      0.74       192\n",
            "\n",
            "\n",
            "SVM\n",
            "              precision    recall  f1-score   support\n",
            "\n",
            "           0       0.93      0.74      0.83       154\n",
            "           1       0.43      0.79      0.56        38\n",
            "\n",
            "    accuracy                           0.75       192\n",
            "   macro avg       0.68      0.76      0.69       192\n",
            "weighted avg       0.83      0.75      0.77       192\n",
            "\n"
          ]
        }
      ]
    },
    {
      "cell_type": "markdown",
      "source": [
        "Sports Dataset - Models"
      ],
      "metadata": {
        "id": "ZwGp5yaBUna8"
      }
    },
    {
      "cell_type": "code",
      "source": [
        "df_sports.info()"
      ],
      "metadata": {
        "colab": {
          "base_uri": "https://localhost:8080/"
        },
        "id": "L-qeB1n_VCy7",
        "outputId": "fbf330c9-483d-4a22-d8a2-2a3289a430fb"
      },
      "execution_count": 19,
      "outputs": [
        {
          "output_type": "stream",
          "name": "stdout",
          "text": [
            "<class 'pandas.core.frame.DataFrame'>\n",
            "RangeIndex: 12 entries, 0 to 11\n",
            "Data columns (total 3 columns):\n",
            " #   Column  Non-Null Count  Dtype  \n",
            "---  ------  --------------  -----  \n",
            " 0   Height  12 non-null     float64\n",
            " 1   Speed   12 non-null     float64\n",
            " 2   Class   12 non-null     object \n",
            "dtypes: float64(2), object(1)\n",
            "memory usage: 416.0+ bytes\n"
          ]
        }
      ]
    },
    {
      "cell_type": "code",
      "source": [
        "def report(name, model, df):\n",
        "  X_train, X_test, y_train, y_test = train_test_split(df.iloc[:, : -1],df.iloc[: , -1], random_state = 0, test_size = 0.5)\n",
        "  model = model.fit(X_train,y_train)\n",
        "  y_pred = model.predict(X_test)\n",
        "  print( name + '\\n' + classification_report(y_pred,y_test))"
      ],
      "metadata": {
        "id": "hp1qkrUfUtf4"
      },
      "execution_count": 17,
      "outputs": []
    },
    {
      "cell_type": "code",
      "source": [
        "report('\\nKNN', KNeighborsClassifier(), df_sports)\n",
        "report('\\nDecision Tree', DecisionTreeClassifier(), df_sports)\n",
        "report('Naive Bayes', GaussianNB(), df_sports)\n",
        "report('\\nSVM', SVC(), df_sports)"
      ],
      "metadata": {
        "colab": {
          "base_uri": "https://localhost:8080/"
        },
        "id": "WO4Ap9jXUw3D",
        "outputId": "eae980d0-a528-40da-d430-b10fba2a307e"
      },
      "execution_count": 18,
      "outputs": [
        {
          "output_type": "stream",
          "name": "stdout",
          "text": [
            "\n",
            "KNN\n",
            "              precision    recall  f1-score   support\n",
            "\n",
            "  Basketball       1.00      0.40      0.57         5\n",
            "     Gymnast       0.00      0.00      0.00         0\n",
            "      Soccer       1.00      1.00      1.00         1\n",
            "\n",
            "    accuracy                           0.50         6\n",
            "   macro avg       0.67      0.47      0.52         6\n",
            "weighted avg       1.00      0.50      0.64         6\n",
            "\n",
            "\n",
            "Decision Tree\n",
            "              precision    recall  f1-score   support\n",
            "\n",
            "  Basketball       1.00      1.00      1.00         2\n",
            "     Gymnast       1.00      1.00      1.00         3\n",
            "      Soccer       1.00      1.00      1.00         1\n",
            "\n",
            "    accuracy                           1.00         6\n",
            "   macro avg       1.00      1.00      1.00         6\n",
            "weighted avg       1.00      1.00      1.00         6\n",
            "\n",
            "Naive Bayes\n",
            "              precision    recall  f1-score   support\n",
            "\n",
            "  Basketball       1.00      0.50      0.67         4\n",
            "     Gymnast       0.00      0.00      0.00         0\n",
            "      Soccer       1.00      0.50      0.67         2\n",
            "\n",
            "    accuracy                           0.50         6\n",
            "   macro avg       0.67      0.33      0.44         6\n",
            "weighted avg       1.00      0.50      0.67         6\n",
            "\n",
            "\n",
            "SVM\n",
            "              precision    recall  f1-score   support\n",
            "\n",
            "  Basketball       1.00      0.50      0.67         4\n",
            "     Gymnast       0.00      0.00      0.00         0\n",
            "      Soccer       1.00      0.50      0.67         2\n",
            "\n",
            "    accuracy                           0.50         6\n",
            "   macro avg       0.67      0.33      0.44         6\n",
            "weighted avg       1.00      0.50      0.67         6\n",
            "\n"
          ]
        },
        {
          "output_type": "stream",
          "name": "stderr",
          "text": [
            "/usr/local/lib/python3.7/dist-packages/sklearn/metrics/_classification.py:1318: UndefinedMetricWarning: Recall and F-score are ill-defined and being set to 0.0 in labels with no true samples. Use `zero_division` parameter to control this behavior.\n",
            "  _warn_prf(average, modifier, msg_start, len(result))\n",
            "/usr/local/lib/python3.7/dist-packages/sklearn/metrics/_classification.py:1318: UndefinedMetricWarning: Recall and F-score are ill-defined and being set to 0.0 in labels with no true samples. Use `zero_division` parameter to control this behavior.\n",
            "  _warn_prf(average, modifier, msg_start, len(result))\n",
            "/usr/local/lib/python3.7/dist-packages/sklearn/metrics/_classification.py:1318: UndefinedMetricWarning: Recall and F-score are ill-defined and being set to 0.0 in labels with no true samples. Use `zero_division` parameter to control this behavior.\n",
            "  _warn_prf(average, modifier, msg_start, len(result))\n",
            "/usr/local/lib/python3.7/dist-packages/sklearn/metrics/_classification.py:1318: UndefinedMetricWarning: Recall and F-score are ill-defined and being set to 0.0 in labels with no true samples. Use `zero_division` parameter to control this behavior.\n",
            "  _warn_prf(average, modifier, msg_start, len(result))\n",
            "/usr/local/lib/python3.7/dist-packages/sklearn/metrics/_classification.py:1318: UndefinedMetricWarning: Recall and F-score are ill-defined and being set to 0.0 in labels with no true samples. Use `zero_division` parameter to control this behavior.\n",
            "  _warn_prf(average, modifier, msg_start, len(result))\n",
            "/usr/local/lib/python3.7/dist-packages/sklearn/metrics/_classification.py:1318: UndefinedMetricWarning: Recall and F-score are ill-defined and being set to 0.0 in labels with no true samples. Use `zero_division` parameter to control this behavior.\n",
            "  _warn_prf(average, modifier, msg_start, len(result))\n",
            "/usr/local/lib/python3.7/dist-packages/sklearn/metrics/_classification.py:1318: UndefinedMetricWarning: Recall and F-score are ill-defined and being set to 0.0 in labels with no true samples. Use `zero_division` parameter to control this behavior.\n",
            "  _warn_prf(average, modifier, msg_start, len(result))\n",
            "/usr/local/lib/python3.7/dist-packages/sklearn/metrics/_classification.py:1318: UndefinedMetricWarning: Recall and F-score are ill-defined and being set to 0.0 in labels with no true samples. Use `zero_division` parameter to control this behavior.\n",
            "  _warn_prf(average, modifier, msg_start, len(result))\n",
            "/usr/local/lib/python3.7/dist-packages/sklearn/metrics/_classification.py:1318: UndefinedMetricWarning: Recall and F-score are ill-defined and being set to 0.0 in labels with no true samples. Use `zero_division` parameter to control this behavior.\n",
            "  _warn_prf(average, modifier, msg_start, len(result))\n"
          ]
        }
      ]
    }
  ]
}