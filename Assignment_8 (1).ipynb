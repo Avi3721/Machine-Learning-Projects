{
  "nbformat": 4,
  "nbformat_minor": 0,
  "metadata": {
    "colab": {
      "provenance": []
    },
    "kernelspec": {
      "name": "python3",
      "display_name": "Python 3"
    },
    "language_info": {
      "name": "python"
    }
  },
  "cells": [
    {
      "cell_type": "code",
      "execution_count": 1,
      "metadata": {
        "id": "GCt4GHSIevrH"
      },
      "outputs": [],
      "source": [
        "import pandas as pd\n",
        "import numpy as np\n",
        "import seaborn as sns\n",
        "import matplotlib.pyplot as plt"
      ]
    },
    {
      "cell_type": "code",
      "source": [
        "from google.colab import drive\n",
        "drive.mount('/content/drive')"
      ],
      "metadata": {
        "colab": {
          "base_uri": "https://localhost:8080/"
        },
        "id": "pb-u8Ynme6Jb",
        "outputId": "38b68b50-8bf0-4932-e5a2-a9201e1b8346"
      },
      "execution_count": 3,
      "outputs": [
        {
          "output_type": "stream",
          "name": "stdout",
          "text": [
            "Mounted at /content/drive\n"
          ]
        }
      ]
    },
    {
      "cell_type": "code",
      "source": [
        "df=pd.read_csv('/content/drive/MyDrive/Colab Notebooks/irisdata.csv', sep=',')\n",
        "df.head()"
      ],
      "metadata": {
        "colab": {
          "base_uri": "https://localhost:8080/",
          "height": 206
        },
        "id": "UuyrMi52ewhY",
        "outputId": "76809d7b-7bd6-449a-cd0c-4fe3d139c245"
      },
      "execution_count": 4,
      "outputs": [
        {
          "output_type": "execute_result",
          "data": {
            "text/plain": [
              "   s_length  s_width  p_length  p_width        class\n",
              "0       5.1      3.5       1.4      0.2  Iris-setosa\n",
              "1       4.9      3.0       1.4      0.2  Iris-setosa\n",
              "2       4.7      3.2       1.3      0.2  Iris-setosa\n",
              "3       4.6      3.1       1.5      0.2  Iris-setosa\n",
              "4       5.0      3.6       1.4      0.2  Iris-setosa"
            ],
            "text/html": [
              "\n",
              "  <div id=\"df-bd8413fd-c934-4e7c-a33b-92c31426d401\">\n",
              "    <div class=\"colab-df-container\">\n",
              "      <div>\n",
              "<style scoped>\n",
              "    .dataframe tbody tr th:only-of-type {\n",
              "        vertical-align: middle;\n",
              "    }\n",
              "\n",
              "    .dataframe tbody tr th {\n",
              "        vertical-align: top;\n",
              "    }\n",
              "\n",
              "    .dataframe thead th {\n",
              "        text-align: right;\n",
              "    }\n",
              "</style>\n",
              "<table border=\"1\" class=\"dataframe\">\n",
              "  <thead>\n",
              "    <tr style=\"text-align: right;\">\n",
              "      <th></th>\n",
              "      <th>s_length</th>\n",
              "      <th>s_width</th>\n",
              "      <th>p_length</th>\n",
              "      <th>p_width</th>\n",
              "      <th>class</th>\n",
              "    </tr>\n",
              "  </thead>\n",
              "  <tbody>\n",
              "    <tr>\n",
              "      <th>0</th>\n",
              "      <td>5.1</td>\n",
              "      <td>3.5</td>\n",
              "      <td>1.4</td>\n",
              "      <td>0.2</td>\n",
              "      <td>Iris-setosa</td>\n",
              "    </tr>\n",
              "    <tr>\n",
              "      <th>1</th>\n",
              "      <td>4.9</td>\n",
              "      <td>3.0</td>\n",
              "      <td>1.4</td>\n",
              "      <td>0.2</td>\n",
              "      <td>Iris-setosa</td>\n",
              "    </tr>\n",
              "    <tr>\n",
              "      <th>2</th>\n",
              "      <td>4.7</td>\n",
              "      <td>3.2</td>\n",
              "      <td>1.3</td>\n",
              "      <td>0.2</td>\n",
              "      <td>Iris-setosa</td>\n",
              "    </tr>\n",
              "    <tr>\n",
              "      <th>3</th>\n",
              "      <td>4.6</td>\n",
              "      <td>3.1</td>\n",
              "      <td>1.5</td>\n",
              "      <td>0.2</td>\n",
              "      <td>Iris-setosa</td>\n",
              "    </tr>\n",
              "    <tr>\n",
              "      <th>4</th>\n",
              "      <td>5.0</td>\n",
              "      <td>3.6</td>\n",
              "      <td>1.4</td>\n",
              "      <td>0.2</td>\n",
              "      <td>Iris-setosa</td>\n",
              "    </tr>\n",
              "  </tbody>\n",
              "</table>\n",
              "</div>\n",
              "      <button class=\"colab-df-convert\" onclick=\"convertToInteractive('df-bd8413fd-c934-4e7c-a33b-92c31426d401')\"\n",
              "              title=\"Convert this dataframe to an interactive table.\"\n",
              "              style=\"display:none;\">\n",
              "        \n",
              "  <svg xmlns=\"http://www.w3.org/2000/svg\" height=\"24px\"viewBox=\"0 0 24 24\"\n",
              "       width=\"24px\">\n",
              "    <path d=\"M0 0h24v24H0V0z\" fill=\"none\"/>\n",
              "    <path d=\"M18.56 5.44l.94 2.06.94-2.06 2.06-.94-2.06-.94-.94-2.06-.94 2.06-2.06.94zm-11 1L8.5 8.5l.94-2.06 2.06-.94-2.06-.94L8.5 2.5l-.94 2.06-2.06.94zm10 10l.94 2.06.94-2.06 2.06-.94-2.06-.94-.94-2.06-.94 2.06-2.06.94z\"/><path d=\"M17.41 7.96l-1.37-1.37c-.4-.4-.92-.59-1.43-.59-.52 0-1.04.2-1.43.59L10.3 9.45l-7.72 7.72c-.78.78-.78 2.05 0 2.83L4 21.41c.39.39.9.59 1.41.59.51 0 1.02-.2 1.41-.59l7.78-7.78 2.81-2.81c.8-.78.8-2.07 0-2.86zM5.41 20L4 18.59l7.72-7.72 1.47 1.35L5.41 20z\"/>\n",
              "  </svg>\n",
              "      </button>\n",
              "      \n",
              "  <style>\n",
              "    .colab-df-container {\n",
              "      display:flex;\n",
              "      flex-wrap:wrap;\n",
              "      gap: 12px;\n",
              "    }\n",
              "\n",
              "    .colab-df-convert {\n",
              "      background-color: #E8F0FE;\n",
              "      border: none;\n",
              "      border-radius: 50%;\n",
              "      cursor: pointer;\n",
              "      display: none;\n",
              "      fill: #1967D2;\n",
              "      height: 32px;\n",
              "      padding: 0 0 0 0;\n",
              "      width: 32px;\n",
              "    }\n",
              "\n",
              "    .colab-df-convert:hover {\n",
              "      background-color: #E2EBFA;\n",
              "      box-shadow: 0px 1px 2px rgba(60, 64, 67, 0.3), 0px 1px 3px 1px rgba(60, 64, 67, 0.15);\n",
              "      fill: #174EA6;\n",
              "    }\n",
              "\n",
              "    [theme=dark] .colab-df-convert {\n",
              "      background-color: #3B4455;\n",
              "      fill: #D2E3FC;\n",
              "    }\n",
              "\n",
              "    [theme=dark] .colab-df-convert:hover {\n",
              "      background-color: #434B5C;\n",
              "      box-shadow: 0px 1px 3px 1px rgba(0, 0, 0, 0.15);\n",
              "      filter: drop-shadow(0px 1px 2px rgba(0, 0, 0, 0.3));\n",
              "      fill: #FFFFFF;\n",
              "    }\n",
              "  </style>\n",
              "\n",
              "      <script>\n",
              "        const buttonEl =\n",
              "          document.querySelector('#df-bd8413fd-c934-4e7c-a33b-92c31426d401 button.colab-df-convert');\n",
              "        buttonEl.style.display =\n",
              "          google.colab.kernel.accessAllowed ? 'block' : 'none';\n",
              "\n",
              "        async function convertToInteractive(key) {\n",
              "          const element = document.querySelector('#df-bd8413fd-c934-4e7c-a33b-92c31426d401');\n",
              "          const dataTable =\n",
              "            await google.colab.kernel.invokeFunction('convertToInteractive',\n",
              "                                                     [key], {});\n",
              "          if (!dataTable) return;\n",
              "\n",
              "          const docLinkHtml = 'Like what you see? Visit the ' +\n",
              "            '<a target=\"_blank\" href=https://colab.research.google.com/notebooks/data_table.ipynb>data table notebook</a>'\n",
              "            + ' to learn more about interactive tables.';\n",
              "          element.innerHTML = '';\n",
              "          dataTable['output_type'] = 'display_data';\n",
              "          await google.colab.output.renderOutput(dataTable, element);\n",
              "          const docLink = document.createElement('div');\n",
              "          docLink.innerHTML = docLinkHtml;\n",
              "          element.appendChild(docLink);\n",
              "        }\n",
              "      </script>\n",
              "    </div>\n",
              "  </div>\n",
              "  "
            ]
          },
          "metadata": {},
          "execution_count": 4
        }
      ]
    },
    {
      "cell_type": "code",
      "source": [
        "df['class'].value_counts()"
      ],
      "metadata": {
        "colab": {
          "base_uri": "https://localhost:8080/"
        },
        "id": "JZOeLzmvfIb9",
        "outputId": "6725f385-c21f-4070-e51f-c168bfe1c1ac"
      },
      "execution_count": 5,
      "outputs": [
        {
          "output_type": "execute_result",
          "data": {
            "text/plain": [
              "Iris-setosa        50\n",
              "Iris-versicolor    50\n",
              "Iris-virginica     50\n",
              "Name: class, dtype: int64"
            ]
          },
          "metadata": {},
          "execution_count": 5
        }
      ]
    },
    {
      "cell_type": "code",
      "source": [
        "df.columns"
      ],
      "metadata": {
        "colab": {
          "base_uri": "https://localhost:8080/"
        },
        "id": "fNiG9HQ7fMX8",
        "outputId": "377be4f9-f2db-4eea-e2e6-b662e2c4675f"
      },
      "execution_count": 6,
      "outputs": [
        {
          "output_type": "execute_result",
          "data": {
            "text/plain": [
              "Index(['s_length', 's_width', 'p_length', 'p_width', 'class'], dtype='object')"
            ]
          },
          "metadata": {},
          "execution_count": 6
        }
      ]
    },
    {
      "cell_type": "code",
      "source": [
        "X=df.iloc[:,0:4].values\n",
        "y=df.iloc[:,4].values"
      ],
      "metadata": {
        "id": "Oumppw0BfPt6"
      },
      "execution_count": 7,
      "outputs": []
    },
    {
      "cell_type": "code",
      "source": [
        "label_dict={1: 'Iris-setosa',\n",
        "           2: 'Iris-virginica',\n",
        "           3: 'Iris-versicolor'}\n",
        "feature_dict={0: 'sepal_length',1: 'sepal_width',2: 'petal_length',3: 'petal_width'}\n",
        "\n",
        "with plt.style.context('seaborn-whitegrid'):\n",
        "    plt.figure(figsize=(8,6))\n",
        "    for i in range(4):\n",
        "        plt.subplot(2,2,i+1)\n",
        "        for lab in ('Iris-setosa','Iris-virginica','Iris-versicolor'):\n",
        "            plt.hist(X[y==lab, i],\n",
        "                    label=lab,\n",
        "                    bins=10,\n",
        "                    alpha=0.3)\n",
        "        plt.xlabel(feature_dict[i])\n",
        "    plt.legend(loc='upper right', fancybox=True,fontsize=8)\n",
        "    \n",
        "    plt.tight_layout()\n",
        "    plt.show()"
      ],
      "metadata": {
        "colab": {
          "base_uri": "https://localhost:8080/",
          "height": 441
        },
        "id": "UHYW3CstfRA-",
        "outputId": "1e4b445f-c733-4549-be72-30e3d0a09794"
      },
      "execution_count": 8,
      "outputs": [
        {
          "output_type": "display_data",
          "data": {
            "text/plain": [
              "<Figure size 576x432 with 4 Axes>"
            ],
            "image/png": "[encoded data removed]"
          },
          "metadata": {}
        }
      ]
    },
    {
      "cell_type": "code",
      "source": [
        "from sklearn.preprocessing import StandardScaler\n",
        "X_std=StandardScaler().fit_transform(X)"
      ],
      "metadata": {
        "id": "LXZZr-8yfg7C"
      },
      "execution_count": 11,
      "outputs": []
    },
    {
      "cell_type": "code",
      "source": [
        "X_std.shape[0]-1"
      ],
      "metadata": {
        "colab": {
          "base_uri": "https://localhost:8080/"
        },
        "id": "d8Q-_8VRfdr8",
        "outputId": "aa376d89-4072-4e5d-c7b7-f72ab0cd621c"
      },
      "execution_count": 12,
      "outputs": [
        {
          "output_type": "execute_result",
          "data": {
            "text/plain": [
              "149"
            ]
          },
          "metadata": {},
          "execution_count": 12
        }
      ]
    },
    {
      "cell_type": "code",
      "source": [
        "mean_vec=np.mean(X_std,axis=0)\n",
        "cov_mat=(X_std-mean_vec).T.dot((X_std-mean_vec))/(X_std.shape[0]-1)\n",
        "print(\"Covariance Matrix \\n%s\" %cov_mat)"
      ],
      "metadata": {
        "colab": {
          "base_uri": "https://localhost:8080/"
        },
        "id": "G-qno8ikfilx",
        "outputId": "d6b7a92d-2cf8-4ff3-af73-240f0784397d"
      },
      "execution_count": 13,
      "outputs": [
        {
          "output_type": "stream",
          "name": "stdout",
          "text": [
            "Covariance Matrix \n",
            "[[ 1.00671141 -0.11010327  0.87760486  0.82344326]\n",
            " [-0.11010327  1.00671141 -0.42333835 -0.358937  ]\n",
            " [ 0.87760486 -0.42333835  1.00671141  0.96921855]\n",
            " [ 0.82344326 -0.358937    0.96921855  1.00671141]]\n"
          ]
        }
      ]
    },
    {
      "cell_type": "code",
      "source": [
        "print(\"Numpy Covariance matrix \\n%s\" %np.cov(X_std.T))"
      ],
      "metadata": {
        "colab": {
          "base_uri": "https://localhost:8080/"
        },
        "id": "8ISHNFDSflSF",
        "outputId": "3685d43d-e92d-4733-c1be-ea2ab4fb01cf"
      },
      "execution_count": 14,
      "outputs": [
        {
          "output_type": "stream",
          "name": "stdout",
          "text": [
            "Numpy Covariance matrix \n",
            "[[ 1.00671141 -0.11010327  0.87760486  0.82344326]\n",
            " [-0.11010327  1.00671141 -0.42333835 -0.358937  ]\n",
            " [ 0.87760486 -0.42333835  1.00671141  0.96921855]\n",
            " [ 0.82344326 -0.358937    0.96921855  1.00671141]]\n"
          ]
        }
      ]
    },
    {
      "cell_type": "code",
      "source": [
        "cov_mat=np.cov(X_std.T)\n",
        "\n",
        "eig_vals, eig_vecs=np.linalg.eig(cov_mat)\n",
        "\n",
        "print(\"Eigenvectors \\n%s\" %eig_vecs)\n",
        "print(\"Eigenvelues \\n%s\" %eig_vals)"
      ],
      "metadata": {
        "colab": {
          "base_uri": "https://localhost:8080/"
        },
        "id": "byqHG9PxfnGn",
        "outputId": "c80a9f22-d978-4df5-ca7e-04a0a5fa5d20"
      },
      "execution_count": 15,
      "outputs": [
        {
          "output_type": "stream",
          "name": "stdout",
          "text": [
            "Eigenvectors \n",
            "[[ 0.52237162 -0.37231836 -0.72101681  0.26199559]\n",
            " [-0.26335492 -0.92555649  0.24203288 -0.12413481]\n",
            " [ 0.58125401 -0.02109478  0.14089226 -0.80115427]\n",
            " [ 0.56561105 -0.06541577  0.6338014   0.52354627]]\n",
            "Eigenvelues \n",
            "[2.93035378 0.92740362 0.14834223 0.02074601]\n"
          ]
        }
      ]
    },
    {
      "cell_type": "markdown",
      "source": [
        "Correlation Matrix"
      ],
      "metadata": {
        "id": "tx4HyISxfozE"
      }
    },
    {
      "cell_type": "code",
      "source": [
        "corr_mat1=np.corrcoef(X_std.T)\n",
        "\n",
        "eig_vals, eig_vecs=np.linalg.eig(corr_mat1)\n",
        "\n",
        "print(\"Eigenvectors \\n%s\" %eig_vecs)\n",
        "print(\"Eigenvelues \\n%s\" %eig_vals)"
      ],
      "metadata": {
        "colab": {
          "base_uri": "https://localhost:8080/"
        },
        "id": "SXbUnzWXfrAy",
        "outputId": "1eb0fde3-e00c-476f-a39a-d3846520bb46"
      },
      "execution_count": 16,
      "outputs": [
        {
          "output_type": "stream",
          "name": "stdout",
          "text": [
            "Eigenvectors \n",
            "[[ 0.52237162 -0.37231836 -0.72101681  0.26199559]\n",
            " [-0.26335492 -0.92555649  0.24203288 -0.12413481]\n",
            " [ 0.58125401 -0.02109478  0.14089226 -0.80115427]\n",
            " [ 0.56561105 -0.06541577  0.6338014   0.52354627]]\n",
            "Eigenvelues \n",
            "[2.91081808 0.92122093 0.14735328 0.02060771]\n"
          ]
        }
      ]
    },
    {
      "cell_type": "markdown",
      "source": [
        "Eigendecomposition of the raw data based on the correlation matrix"
      ],
      "metadata": {
        "id": "B4X-o7rcfuKV"
      }
    },
    {
      "cell_type": "code",
      "source": [
        "cor_mat2=np.corrcoef(X.T)\n",
        "eig_vals, eig_vecs=np.linalg.eig(cor_mat2)\n",
        "\n",
        "print(\"Eigenvectors \\n%s\" %eig_vecs)\n",
        "print(\"Eigenvelues \\n%s\" %eig_vals)"
      ],
      "metadata": {
        "colab": {
          "base_uri": "https://localhost:8080/"
        },
        "id": "g1INVIunfurC",
        "outputId": "bd8be89b-18ce-4082-bff0-c3c326782095"
      },
      "execution_count": 17,
      "outputs": [
        {
          "output_type": "stream",
          "name": "stdout",
          "text": [
            "Eigenvectors \n",
            "[[ 0.52237162 -0.37231836 -0.72101681  0.26199559]\n",
            " [-0.26335492 -0.92555649  0.24203288 -0.12413481]\n",
            " [ 0.58125401 -0.02109478  0.14089226 -0.80115427]\n",
            " [ 0.56561105 -0.06541577  0.6338014   0.52354627]]\n",
            "Eigenvelues \n",
            "[2.91081808 0.92122093 0.14735328 0.02060771]\n"
          ]
        }
      ]
    },
    {
      "cell_type": "markdown",
      "source": [
        "#We can clearly see that all three approaches yield the same eigenvectors and eigenvalue pairs:\n",
        "1. Eigendecomposition of the covariance matrix after standardizing the data.\n",
        "2. Eigendecomposition of the correlation matrix.\n",
        "3. Eigendecomposition of the correlation matrix after standardizing the data.\n",
        "\n",
        "\n",
        "\n"
      ],
      "metadata": {
        "id": "MVYstqXFfyXO"
      }
    },
    {
      "cell_type": "markdown",
      "source": [
        "#Singular Value Decomposition\n",
        "While the eigendecomposition of the covariance or correlation matrix may be more intuitiuve, most PCA implementations perform a Singular Value Decomposition (SVD) to improve the computational efficiency. So, let us perform an SVD to confirm that the result are indeed the same:"
      ],
      "metadata": {
        "id": "HGwZFtOaf8fM"
      }
    },
    {
      "cell_type": "code",
      "source": [
        "u, s, v=np.linalg.svd(X_std.T)\n",
        "u"
      ],
      "metadata": {
        "colab": {
          "base_uri": "https://localhost:8080/"
        },
        "id": "5UBGweaWf7RP",
        "outputId": "60a6b477-8831-4bdb-ac03-f4b7e1149d04"
      },
      "execution_count": 18,
      "outputs": [
        {
          "output_type": "execute_result",
          "data": {
            "text/plain": [
              "array([[-0.52237162, -0.37231836,  0.72101681,  0.26199559],\n",
              "       [ 0.26335492, -0.92555649, -0.24203288, -0.12413481],\n",
              "       [-0.58125401, -0.02109478, -0.14089226, -0.80115427],\n",
              "       [-0.56561105, -0.06541577, -0.6338014 ,  0.52354627]])"
            ]
          },
          "metadata": {},
          "execution_count": 18
        }
      ]
    },
    {
      "cell_type": "markdown",
      "source": [
        "#Sorting Eigenpairs\n",
        "The typical goal of a PCA is to reduce the dimensionality of the original feature space by projecting it onto a smaller subspace, where the eigenvectors will form the axes. However, the eigenvectors only define the directions of the new axis, since they have all the same unit length 1, which can confirmed by the following two lines of code"
      ],
      "metadata": {
        "id": "KSes_XrIgCTZ"
      }
    },
    {
      "cell_type": "code",
      "source": [
        "for ev in eig_vecs.T:\n",
        "    np.testing.assert_array_almost_equal(1.0, np.linalg.norm(ev))\n",
        "print(\"Everithing is ok\")"
      ],
      "metadata": {
        "colab": {
          "base_uri": "https://localhost:8080/"
        },
        "id": "_j9PgnykgDpn",
        "outputId": "f165d639-d805-4df6-cb9b-dc46a75c1764"
      },
      "execution_count": 19,
      "outputs": [
        {
          "output_type": "stream",
          "name": "stdout",
          "text": [
            "Everithing is ok\n"
          ]
        }
      ]
    },
    {
      "cell_type": "code",
      "source": [
        "# Make a list of (eigenvalue, eigenvector) tuples\n",
        "eig_pairs = [(np.abs(eig_vals[i]), eig_vecs[:,i]) for i in range(len(eig_vals))]\n",
        "\n",
        "# Sort the (eigenvalue, eigenvector) tuples from high to low\n",
        "eig_pairs.sort(key=lambda x: x[0], reverse=True)\n",
        "\n",
        "# Visually confirm that the list is correctly sorted by decreasing eigenvalues\n",
        "print('Eigenvalues in descending order:')\n",
        "for i in eig_pairs:\n",
        "    print(i[0])"
      ],
      "metadata": {
        "colab": {
          "base_uri": "https://localhost:8080/"
        },
        "id": "JI1LeugWgGuQ",
        "outputId": "2f6d16ee-fc4e-4576-d082-b11a6931fa42"
      },
      "execution_count": 20,
      "outputs": [
        {
          "output_type": "stream",
          "name": "stdout",
          "text": [
            "Eigenvalues in descending order:\n",
            "2.9108180837520528\n",
            "0.9212209307072254\n",
            "0.1473532783050958\n",
            "0.020607707235624842\n"
          ]
        }
      ]
    },
    {
      "cell_type": "markdown",
      "source": [
        "#Explained Variance:\n",
        "After sorting the eigenpairs, the next question is “how many principal components are we going to choose for our new feature subspace?” A useful measure is the so-called “explained variance,” which can be calculated from the eigenvalues. The explained variance tells us how much information (variance) can be attributed to each of the principal components."
      ],
      "metadata": {
        "id": "sLM9iBOtgK6Y"
      }
    },
    {
      "cell_type": "code",
      "source": [
        "tot = sum(eig_vals)\n",
        "var_exp = [(i / tot)*100 for i in sorted(eig_vals, reverse=True)]\n",
        "cum_var_exp = np.cumsum(var_exp)"
      ],
      "metadata": {
        "id": "wD6Xkz0agMeP"
      },
      "execution_count": 21,
      "outputs": []
    },
    {
      "cell_type": "code",
      "source": [
        "with plt.style.context('seaborn-whitegrid'):\n",
        "    plt.figure(figsize=(6, 4))\n",
        "\n",
        "    plt.bar(range(4), var_exp, alpha=0.5, align='center',\n",
        "            label='individual explained variance')\n",
        "    plt.step(range(4), cum_var_exp, where='mid',\n",
        "             label='cumulative explained variance')\n",
        "    plt.ylabel('Explained variance ratio')\n",
        "    plt.xlabel('Principal components')\n",
        "    plt.legend(loc='best')\n",
        "    plt.tight_layout()"
      ],
      "metadata": {
        "colab": {
          "base_uri": "https://localhost:8080/",
          "height": 297
        },
        "id": "rO68jVWPgNxE",
        "outputId": "fa26cc0e-9c1e-442e-8471-8e66ad71ab00"
      },
      "execution_count": 22,
      "outputs": [
        {
          "output_type": "display_data",
          "data": {
            "text/plain": [
              "<Figure size 432x288 with 1 Axes>"
            ],
            "image/png": "[encoded data removed]"
          },
          "metadata": {}
        }
      ]
    },
    {
      "cell_type": "markdown",
      "source": [
        "The plot above clearly shows that most of the variance (72.77% of the variance to be precise) can be explained by the first principal component alone. The second principal component still bears some information (23.03%) while the third and fourth principal components can safely be dropped without losing to much information. Together, the first two principal components contain 95.8% of the information."
      ],
      "metadata": {
        "id": "LSkD2R5igR4x"
      }
    },
    {
      "cell_type": "markdown",
      "source": [
        "#Projection Matrix\n",
        "It’s about time to get to the really interesting part: The construction of the projection matrix that will be used to transform the Iris data onto the new feature subspace. Although, the name “projection matrix” has a nice ring to it, it is basically just a matrix of our concatenated top k eigenvectors."
      ],
      "metadata": {
        "id": "islzihgKgTvO"
      }
    },
    {
      "cell_type": "code",
      "source": [
        "matrix_w = np.hstack((eig_pairs[0][1].reshape(4,1),\n",
        "                      eig_pairs[1][1].reshape(4,1)))\n",
        "\n",
        "print('Matrix W:\\n', matrix_w)"
      ],
      "metadata": {
        "colab": {
          "base_uri": "https://localhost:8080/"
        },
        "id": "-KmTztrKgS3c",
        "outputId": "cc797022-a2c7-4b1b-abe8-40ebc737997a"
      },
      "execution_count": 23,
      "outputs": [
        {
          "output_type": "stream",
          "name": "stdout",
          "text": [
            "Matrix W:\n",
            " [[ 0.52237162 -0.37231836]\n",
            " [-0.26335492 -0.92555649]\n",
            " [ 0.58125401 -0.02109478]\n",
            " [ 0.56561105 -0.06541577]]\n"
          ]
        }
      ]
    },
    {
      "cell_type": "markdown",
      "source": [
        "#Projection Onto the New Feature Space\n",
        "n this last step we will use the 4×2-dimensional projection matrix W to transform our samples onto the new subspace via the equation Y=X×W, where Y is a 150×2 matrix of our transformed samples."
      ],
      "metadata": {
        "id": "LYAw2EnDgZcc"
      }
    },
    {
      "cell_type": "code",
      "source": [
        "Y = X_std.dot(matrix_w)"
      ],
      "metadata": {
        "id": "o-OnZuX5gbRY"
      },
      "execution_count": 24,
      "outputs": []
    },
    {
      "cell_type": "code",
      "source": [
        "with plt.style.context('seaborn-whitegrid'):\n",
        "    plt.figure(figsize=(6, 4))\n",
        "    for lab, col in zip(('Iris-setosa', 'Iris-versicolor', 'Iris-virginica'),\n",
        "                        ('blue', 'red', 'green')):\n",
        "        plt.scatter(Y[y==lab, 0],\n",
        "                    Y[y==lab, 1],\n",
        "                    label=lab,\n",
        "                    c=col)\n",
        "    plt.xlabel('Principal Component 1')\n",
        "    plt.ylabel('Principal Component 2')\n",
        "    plt.legend(loc='lower center')\n",
        "    plt.tight_layout()\n",
        "    plt.show()"
      ],
      "metadata": {
        "colab": {
          "base_uri": "https://localhost:8080/",
          "height": 297
        },
        "id": "uiPmJMHlgeVM",
        "outputId": "6b76d2a5-007e-4517-936c-fa0ae319e81e"
      },
      "execution_count": 25,
      "outputs": [
        {
          "output_type": "display_data",
          "data": {
            "text/plain": [
              "<Figure size 432x288 with 1 Axes>"
            ],
            "image/png": "[encoded data removed]"
          },
          "metadata": {}
        }
      ]
    },
    {
      "cell_type": "markdown",
      "source": [
        "#Shortcut - PCA in scikit-learn"
      ],
      "metadata": {
        "id": "32MGiq8eghhb"
      }
    },
    {
      "cell_type": "code",
      "source": [
        "from sklearn.decomposition import PCA as sklearnPCA\n",
        "sklearn_pca = sklearnPCA(n_components=2)\n",
        "Y_sklearn = sklearn_pca.fit_transform(X_std)"
      ],
      "metadata": {
        "id": "FUMjRvorgjjK"
      },
      "execution_count": 26,
      "outputs": []
    },
    {
      "cell_type": "code",
      "source": [
        "with plt.style.context('seaborn-whitegrid'):\n",
        "    plt.figure(figsize=(6, 4))\n",
        "    for lab, col in zip(('Iris-setosa', 'Iris-versicolor', 'Iris-virginica'),\n",
        "                        ('blue', 'red', 'green')):\n",
        "        plt.scatter(Y_sklearn[y==lab, 0],\n",
        "                    Y_sklearn[y==lab, 1],\n",
        "                    label=lab,\n",
        "                    c=col)\n",
        "    plt.xlabel('Principal Component 1')\n",
        "    plt.ylabel('Principal Component 2')\n",
        "    plt.legend(loc='upper center')\n",
        "    plt.tight_layout()\n",
        "    plt.show()"
      ],
      "metadata": {
        "colab": {
          "base_uri": "https://localhost:8080/",
          "height": 297
        },
        "id": "13CRaqlHglZx",
        "outputId": "444f7475-69ef-4ce7-d3d3-8d1c0ce06ebd"
      },
      "execution_count": 27,
      "outputs": [
        {
          "output_type": "display_data",
          "data": {
            "text/plain": [
              "<Figure size 432x288 with 1 Axes>"
            ],
            "image/png": "[encoded data removed]"
          },
          "metadata": {}
        }
      ]
    }
  ]
}