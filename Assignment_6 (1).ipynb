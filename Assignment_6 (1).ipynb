{
  "nbformat": 4,
  "nbformat_minor": 0,
  "metadata": {
    "colab": {
      "provenance": []
    },
    "kernelspec": {
      "name": "python3",
      "display_name": "Python 3"
    },
    "language_info": {
      "name": "python"
    }
  },
  "cells": [
    {
      "cell_type": "code",
      "source": [
        "# A Gentle Introduction to Machine Learning Algorithms\n",
        "# Author:   Dr. Steven C. Lindo\n",
        "# Date :    7/27/2021\n",
        "# Description: Using SKLearn we can instrument\n",
        "#              machine learning algorithms.\n",
        "# -   -   -   -   -   -   -   -   -   -   -   -\n",
        "# History\n",
        "# Name      Date          Description\n",
        "# scl       11/01/2022    Inital code draft\n",
        "# scl       11/12/2022    Create framework for adding the other Classifiers\n",
        "#                         Students should take this version as a starting point\n",
        "# -   -   -   -   -   -   -   -   -   -   -   -   "
      ],
      "metadata": {
        "id": "2AUCdmKw6UMR"
      },
      "execution_count": null,
      "outputs": []
    },
    {
      "cell_type": "code",
      "execution_count": null,
      "metadata": {
        "id": "RSSyzu4-1nMo"
      },
      "outputs": [],
      "source": [
        "import os\n",
        "import numpy as np\n",
        "import pandas as pd\n",
        "import seaborn as sns\n",
        "import matplotlib.pyplot as plt\n",
        "\n",
        "# machine learning library \n",
        "from sklearn.naive_bayes import GaussianNB\n",
        "from sklearn.svm import SVC\n",
        "\n",
        "from sklearn.model_selection import train_test_split\n",
        "\n",
        "# machine learning accuracy\n",
        "from sklearn.metrics import accuracy_score"
      ]
    },
    {
      "cell_type": "code",
      "source": [
        "from google.colab import drive\n",
        "drive.mount('/content/drive')"
      ],
      "metadata": {
        "colab": {
          "base_uri": "https://localhost:8080/"
        },
        "id": "5ao6MDaLGXhh",
        "outputId": "78b41a0e-c464-473c-f815-7e6e33bda60e"
      },
      "execution_count": null,
      "outputs": [
        {
          "output_type": "stream",
          "name": "stdout",
          "text": [
            "Drive already mounted at /content/drive; to attempt to forcibly remount, call drive.mount(\"/content/drive\", force_remount=True).\n"
          ]
        }
      ]
    },
    {
      "cell_type": "code",
      "source": [
        "location ='/content/drive/MyDrive/Colab Notebooks/data'\n",
        "\n",
        "# please note this change and \"hack\" if you will, only for \n",
        "# demo purposes with this implementation\n",
        "list_of_files = os.listdir(location)\n",
        "print(list_of_files)"
      ],
      "metadata": {
        "colab": {
          "base_uri": "https://localhost:8080/"
        },
        "id": "KX-sS1pL6dUa",
        "outputId": "2fc01eb3-2c97-4066-9336-ccee1499c776"
      },
      "execution_count": null,
      "outputs": [
        {
          "output_type": "stream",
          "name": "stdout",
          "text": [
            "['iris_data.csv', 'sports_class.csv', 'bc_data.csv', 'Salary_Data.csv']\n"
          ]
        }
      ]
    },
    {
      "cell_type": "code",
      "source": [
        "# -    -    -    -    -    -    -    -    -    -    -\n",
        "def f_bayes(X_train, X_test, y_train, y_test):\n",
        "  model_performance = 0.0\n",
        "\n",
        "  # reshape to get rid of the warning\n",
        "  # not the most elegant, but it works\n",
        "  y_test  = np.reshape(y_test, len(y_test), )\n",
        "  y_train = np.reshape(y_train, len(y_train), )\n",
        "\n",
        "  # train the model \n",
        "  model = GaussianNB()\n",
        "  model.fit(X_train, y_train)\n",
        "\n",
        "  # test the model\n",
        "  y_pred = model.predict(X_test)\n",
        "\n",
        "  # accuracy results\n",
        "  model_performance = accuracy_score(y_test, y_pred)\n",
        "  return model_performance.round(3)\n",
        "\n",
        "# -    -    -    -    -    -    -    -    -    -    -\n",
        "def f_svm(X_train, X_test, y_train, y_test):\n",
        "  model_performance = 0.0\n",
        "\n",
        "  # reshape to get rid of the warning\n",
        "  # not the most elegant, but it works\n",
        "  y_test  = np.reshape(y_test, len(y_test), )\n",
        "  y_train = np.reshape(y_train, len(y_train), )\n",
        "\n",
        "  # train the model \n",
        "  # model = GaussianNB()\n",
        "  model = SVC()\n",
        "  model.fit(X_train, y_train)\n",
        "\n",
        "  # test the model\n",
        "  y_pred = model.predict(X_test)\n",
        "\n",
        "  # accuracy results\n",
        "  model_performance = accuracy_score(y_test, y_pred)\n",
        "  return model_performance.round(3)\n",
        "\n",
        "# -    -    -    -    -    -    -    -    -    -    -\n",
        "def f_decisionTrees(X_train, X_test, y_train, y_test):\n",
        "  model_performance = 0.0\n",
        "  \n",
        "  return model_performance\n",
        "\n",
        "# -    -    -    -    -    -    -    -    -    -    -\n",
        "def f_nearestNeighbor(X_train, X_test, y_train, y_test):\n",
        "  model_performance = 0.0\n",
        "\n",
        "\n",
        "  return model_performance\n"
      ],
      "metadata": {
        "id": "1ukuwh6cJGe2"
      },
      "execution_count": null,
      "outputs": []
    },
    {
      "cell_type": "code",
      "source": [
        "def f_feature_selection(data):\n",
        "  # scl - document this part of the code and explain \n",
        "  #       the use of python slicing and the comma\n",
        "  #       this code assumes that 'class' = 'observed' is \n",
        "  #       last column in the dataFrame.\n",
        "  features = data.iloc[:,:-1].values\n",
        "  observed = data.iloc[:,-1:].values\n",
        "  return features, observed\n",
        "\n",
        "def f_makeTrainTestData(X, y):\n",
        "  # split into training & testing\n",
        "  xtrain, xtest, ytrain, ytest = train_test_split(X, y, test_size=0.55, random_state=42)\n",
        "  return xtrain, xtest, ytrain, ytest\n",
        "\n",
        "def f_loadData(fn):\n",
        "  dataframe = pd.read_csv(fn)\n",
        "  return dataframe\n",
        "\n",
        "def f_pairPlot(dataframe):\n",
        "  sns.pairplot(dataframe, diag_kind='kde', hue='class')\n"
      ],
      "metadata": {
        "id": "4SXtwgC9uqPr"
      },
      "execution_count": null,
      "outputs": []
    },
    {
      "cell_type": "code",
      "source": [
        "def main():\n",
        "  status = 0\n",
        "  # Load the file you want to use for this experiment\n",
        "  # simply chose from the file list above.  Reminder that\n",
        "  # the first file is 0, so list_of_files[0] would be the first file.\n",
        "  for i in range (len(list_of_files)):\n",
        "    filename = location + '/' +list_of_files[i]\n",
        "    df = f_loadData(filename)\n",
        "    print(list_of_files[i])\n",
        "\n",
        "    # create a chart\n",
        "    # f_pairPlot(df)\n",
        "    \n",
        "    # do your feature section process and split into training and test sets\n",
        "    X_features, y_observed = f_feature_selection(df)\n",
        "    xtrain, xtest, ytrain, ytest = f_makeTrainTestData(X_features, y_observed)\n",
        "\n",
        "    # train and test each models\n",
        "    status =  f_bayes(xtrain, xtest, ytrain, ytest)\n",
        "    print(filename, ' - Bayes model performance = ', status)\n",
        "\n",
        "    status =  f_svm(xtrain, xtest, ytrain, ytest)\n",
        "    print(filename, ' - SVM model performance   = ', status)\n",
        "\n",
        "    status =  f_decisionTrees(xtrain, xtest, ytrain, ytest)\n",
        "    print(filename, ' - DTree model performance = ', status)\n",
        "\n",
        "    status =  f_nearestNeighbor(xtrain, xtest, ytrain, ytest)\n",
        "    print(filename, ' - KNN model performance   = ', status)\n",
        "    \n",
        "    print('\\n-    -    -    -    Next File    -    -    -    -\\n')\n",
        "\n",
        "    \n",
        "  print('\\n-    -    -    -    -  E N D  -    -    -    -    -    -\\n')\n",
        "\n",
        "  return status"
      ],
      "metadata": {
        "id": "DZFZYu8s25sw"
      },
      "execution_count": null,
      "outputs": []
    },
    {
      "cell_type": "code",
      "source": [
        "results = main()"
      ],
      "metadata": {
        "colab": {
          "base_uri": "https://localhost:8080/"
        },
        "id": "0XgsXxCmyLTS",
        "outputId": "9aeba502-8d0f-441f-d12a-f40e92601410"
      },
      "execution_count": null,
      "outputs": [
        {
          "output_type": "stream",
          "name": "stdout",
          "text": [
            "iris_data.csv\n",
            "/content/drive/MyDrive/Colab Notebooks/data/iris_data.csv  - Bayes model performance =  0.988\n",
            "/content/drive/MyDrive/Colab Notebooks/data/iris_data.csv  - SVM model performance   =  0.976\n",
            "/content/drive/MyDrive/Colab Notebooks/data/iris_data.csv  - DTree model performance =  0.0\n",
            "/content/drive/MyDrive/Colab Notebooks/data/iris_data.csv  - KNN model performance   =  0.0\n",
            "\n",
            "-    -    -    -    Next File    -    -    -    -\n",
            "\n",
            "sports_class.csv\n",
            "/content/drive/MyDrive/Colab Notebooks/data/sports_class.csv  - Bayes model performance =  0.143\n",
            "/content/drive/MyDrive/Colab Notebooks/data/sports_class.csv  - SVM model performance   =  0.571\n",
            "/content/drive/MyDrive/Colab Notebooks/data/sports_class.csv  - DTree model performance =  0.0\n",
            "/content/drive/MyDrive/Colab Notebooks/data/sports_class.csv  - KNN model performance   =  0.0\n",
            "\n",
            "-    -    -    -    Next File    -    -    -    -\n",
            "\n",
            "bc_data.csv\n",
            "/content/drive/MyDrive/Colab Notebooks/data/bc_data.csv  - Bayes model performance =  0.645\n",
            "/content/drive/MyDrive/Colab Notebooks/data/bc_data.csv  - SVM model performance   =  0.62\n",
            "/content/drive/MyDrive/Colab Notebooks/data/bc_data.csv  - DTree model performance =  0.0\n",
            "/content/drive/MyDrive/Colab Notebooks/data/bc_data.csv  - KNN model performance   =  0.0\n",
            "\n",
            "-    -    -    -    Next File    -    -    -    -\n",
            "\n",
            "Salary_Data.csv\n",
            "/content/drive/MyDrive/Colab Notebooks/data/Salary_Data.csv  - Bayes model performance =  0.882\n",
            "/content/drive/MyDrive/Colab Notebooks/data/Salary_Data.csv  - SVM model performance   =  0.882\n",
            "/content/drive/MyDrive/Colab Notebooks/data/Salary_Data.csv  - DTree model performance =  0.0\n",
            "/content/drive/MyDrive/Colab Notebooks/data/Salary_Data.csv  - KNN model performance   =  0.0\n",
            "\n",
            "-    -    -    -    Next File    -    -    -    -\n",
            "\n",
            "\n",
            "-    -    -    -    -  E N D  -    -    -    -    -    -\n",
            "\n"
          ]
        }
      ]
    },
    {
      "cell_type": "code",
      "source": [
        "def f_loadData(fn):\n",
        "  #df = '/content/drive/MyDrive/Colab Notebooks/data/' + str(fn)\n",
        "  dataframe = pd.read_csv(fn)\n",
        "  return dataframe"
      ],
      "metadata": {
        "id": "C07mQ7BcJDDK"
      },
      "execution_count": null,
      "outputs": []
    },
    {
      "cell_type": "code",
      "source": [
        "for i in range (len(list_of_files)):\n",
        "    filename = location + '/' + list_of_files[i]\n",
        "    df = f_loadData(filename)"
      ],
      "metadata": {
        "id": "R5UXC4waIDyN"
      },
      "execution_count": null,
      "outputs": []
    }
  ]
}